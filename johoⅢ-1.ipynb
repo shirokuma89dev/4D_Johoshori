{
 "cells": [
  {
   "cell_type": "markdown",
   "metadata": {},
   "source": [
    "# Jupyter notebook基礎"
   ]
  },
  {
   "cell_type": "markdown",
   "metadata": {
    "raw_mimetype": "text/markdown"
   },
   "source": [
    "\n",
    "## 実行環境\n",
    "### Anaconda 　Python関係の環境が揃う\n",
    "Jupyter notebook ; Pythonの<font color=red>プログラム部分</font>と<font color=red>ドキュメント部</font>（プログラムではない:Marldown言語で記述）が一緒になってプログラム部を順番に動作できる  \n",
    "（Spyder : PythonプログラムをC-Padのように利用できる）\n",
    "## Jupyter notebookの使い方\n",
    "<font color=red>Cell</font>とはJupyter notebookでの１つの塊部分  \n",
    "+アイコン　Cellの新規追加  \n",
    "✂アイコン　Cellの削除  \n",
    "CodeとMarkdownの選択　プルグラム部（Code）にするかドキュメント（Markdown）にするかの選択（Markdown言語で入力後に「Shift+enter」でドキュメントになる）  \n",
    "▶Runで現在のCellのプログラム実行\n"
   ]
  },
  {
   "cell_type": "markdown",
   "metadata": {},
   "source": [
    "セルを選択した状態で  \n",
    "セルの左側が青色の時は<font color=red>command mode</font>となっており，command modeの機能が使えます．  \n",
    "機能には，新しいセルを上に挿入（a）や新しいセルを下に挿入（b）や現在のセルを削除（X）,セルをMarkdownに変更(m），セルをCodeに変更（Y）などがあります．"
   ]
  },
  {
   "cell_type": "markdown",
   "metadata": {},
   "source": [
    "セル（Markdown）に文字列を入力した後に[Shift]+[Enter]を押すとドキュメントに変わります．（文字列にはHTMLのタグも使えます．例えば文字列を赤色にしたい場合は，＜font color=red>文字列</font＞(全て半角文字）で囲みます．）"
   ]
  },
  {
   "cell_type": "markdown",
   "metadata": {},
   "source": [
    "セル（Code）にプログラムを入力した後[Ctrl]+[Enter]でそのセルのプログラムを実行します．"
   ]
  },
  {
   "cell_type": "markdown",
   "metadata": {},
   "source": [
    "#### 練習問題"
   ]
  },
  {
   "cell_type": "markdown",
   "metadata": {},
   "source": [
    "この行の下に新しいセルをつくり，Markdown言語で「これからJupyter Notebookの勉強を始めます．」というドキュメントを生成せよ．（ただし，Jupyter Notebookの部分は赤色とする）"
   ]
  },
  {
   "cell_type": "markdown",
   "metadata": {},
   "source": [
    "これから<font color=\"red\">Jupyter Notebook</font>の勉強を始めます"
   ]
  },
  {
   "cell_type": "markdown",
   "metadata": {
    "id": "x2fnVZ7M38xL"
   },
   "source": [
    "## 行列"
   ]
  },
  {
   "cell_type": "markdown",
   "metadata": {
    "id": "gd6uGn7P38xL"
   },
   "source": [
    "Numpyを使うと行列計算もできます。\n",
    "まずは、行列の作成方法から説明します。次の例は、0〜8までの数字を3×3行列で表現するものです。`arange`関数は指定した連続した整数を発生する機能を持ちます。`arange(9)`とした場合、0から8までの整数を発生します。それを`reshape`関数で3×3の行列に分割しています。\n",
    "これで変数`array1`に3×3の行列が作られます。"
   ]
  },
  {
   "cell_type": "code",
   "execution_count": 3,
   "metadata": {
    "colab": {
     "base_uri": "https://localhost:8080/"
    },
    "id": "jeSBTorM38xL",
    "outputId": "2c35dcdd-1eb6-4723-9cca-5112e1c3ab2c"
   },
   "outputs": [
    {
     "name": "stdout",
     "output_type": "stream",
     "text": [
      "[0 1 2 3 4 5 6 7 8]\n"
     ]
    }
   ],
   "source": [
    "import numpy as np\n",
    "a=np.arange(9)\n",
    "print(a)"
   ]
  },
  {
   "cell_type": "code",
   "execution_count": 4,
   "metadata": {
    "colab": {
     "base_uri": "https://localhost:8080/"
    },
    "id": "xdyhUny438xN",
    "outputId": "8cd42c1f-d034-4c5c-9fdb-9ba99badb02b"
   },
   "outputs": [
    {
     "name": "stdout",
     "output_type": "stream",
     "text": [
      "[[0 1 2]\n",
      " [3 4 5]\n",
      " [6 7 8]]\n"
     ]
    }
   ],
   "source": [
    "import numpy as np\n",
    "array1 = np.arange(9).reshape(3,3)\n",
    "print(array1)"
   ]
  },
  {
   "cell_type": "markdown",
   "metadata": {
    "id": "Eylgn7wX38xO"
   },
   "source": [
    "行列から、行や列のみを抜き出したいときは、「[行範囲:列範囲]」のように表記します。それぞれの範囲は、「開始インデックス,終了インデックス」のように、カンマで区切って指定します。開始インデックスや終了インデックスを省略したときは、それぞれ「最初から」「末尾まで」という意味になります。\n",
    "たとえば、次のように「`[0,:]`」を指定すると、「行は1行目」「列はすべて」という意味になるので、1行目のすべての列を取り出すことができます。なお、インデックスは0からはじまりますが、対象の行列は1からはじまるので注意しましょう。"
   ]
  },
  {
   "cell_type": "code",
   "execution_count": 5,
   "metadata": {
    "colab": {
     "base_uri": "https://localhost:8080/"
    },
    "id": "2OKctvYy38xP",
    "outputId": "33f036d1-462d-4efa-9d12-2983166c6011"
   },
   "outputs": [
    {
     "name": "stdout",
     "output_type": "stream",
     "text": [
      "[0 1 2]\n"
     ]
    }
   ],
   "source": [
    "# 1行目のみ取り出し\n",
    "a=array1[0,:]\n",
    "print(a)"
   ]
  },
  {
   "cell_type": "code",
   "execution_count": 6,
   "metadata": {},
   "outputs": [
    {
     "name": "stdout",
     "output_type": "stream",
     "text": [
      "[[3 4 5]\n",
      " [6 7 8]]\n"
     ]
    }
   ],
   "source": [
    "# ２行目と３行目を取り出し，（最初の行範囲は０という数値から，[1,2]というリストに変更されている）\n",
    "a=array1[[1,2],:]\n",
    "print(a)"
   ]
  },
  {
   "cell_type": "markdown",
   "metadata": {
    "id": "SFPKTs2W38xQ"
   },
   "source": [
    "1列目のすべての行を取り出すには、「`[:,0]`」を指定します。これは「列は1列目」「行はすべて」という意味です。"
   ]
  },
  {
   "cell_type": "code",
   "execution_count": 7,
   "metadata": {
    "colab": {
     "base_uri": "https://localhost:8080/"
    },
    "id": "yn4k7RBG38xQ",
    "outputId": "b8199836-9729-4d73-8d26-cd78f5ec8d76"
   },
   "outputs": [
    {
     "name": "stdout",
     "output_type": "stream",
     "text": [
      "[0 3 6]\n"
     ]
    }
   ],
   "source": [
    "# 1列目のみ取り出し\n",
    "a=array1[:,0]\n",
    "print(a)"
   ]
  },
  {
   "cell_type": "markdown",
   "metadata": {},
   "source": [
    "#### 練習問題"
   ]
  },
  {
   "cell_type": "markdown",
   "metadata": {},
   "source": [
    "４行×４列の行列をndarray（numpy配列）として作成し，２列目と３列目のみとりだした４行×２列の行列をつくり表示するプログラムを作成しなさい．"
   ]
  },
  {
   "cell_type": "code",
   "execution_count": 8,
   "metadata": {},
   "outputs": [
    {
     "name": "stdout",
     "output_type": "stream",
     "text": [
      "[[ 0  1  2  3]\n",
      " [ 4  5  6  7]\n",
      " [ 8  9 10 11]\n",
      " [12 13 14 15]]\n",
      "[[ 1  2]\n",
      " [ 5  6]\n",
      " [ 9 10]\n",
      " [13 14]]\n"
     ]
    }
   ],
   "source": [
    "## 4 x 4\n",
    "array2 = np.arange(16).reshape(4, 4)\n",
    "print(array2)\n",
    "\n",
    "array3 = array2[:, [1, 2]]\n",
    "print(array3)"
   ]
  },
  {
   "cell_type": "markdown",
   "metadata": {
    "id": "M0ftbHU738xS"
   },
   "source": [
    "#### 行列の演算\n",
    "\n",
    "行列の掛け算をしてみましょう。この計算方法がわからない方は、線形代数の復習をしてください。\n",
    "\n",
    "まずは、掛け算する対象とする行列を作成しましょう。次の例では、3×3の行列を作成し、変数`array2`に代入しています。"
   ]
  },
  {
   "cell_type": "code",
   "execution_count": 9,
   "metadata": {
    "colab": {
     "base_uri": "https://localhost:8080/"
    },
    "id": "z_JhxPPS38xS",
    "outputId": "759edeac-953b-4163-fa12-0fb2ea6065dc"
   },
   "outputs": [
    {
     "name": "stdout",
     "output_type": "stream",
     "text": [
      "[[ 9 10 11]\n",
      " [12 13 14]\n",
      " [15 16 17]]\n"
     ]
    }
   ],
   "source": [
    "import numpy as np\n",
    "array2 = np.arange(9,18).reshape(3,3)\n",
    "print(array2)"
   ]
  },
  {
   "cell_type": "markdown",
   "metadata": {
    "id": "w8w0ZDQE38xT"
   },
   "source": [
    "この行列と、先の`array1`の行列を掛け算してみましょう。\n",
    "行列の掛け算では、`dot`関数を使います。おなじ計算は'@'でも計算できます。間違えて`*`を使うと、行列の掛け算ではなく、それぞれの要素を掛け算してしまうので、注意しましょう。"
   ]
  },
  {
   "cell_type": "code",
   "execution_count": 10,
   "metadata": {
    "colab": {
     "base_uri": "https://localhost:8080/"
    },
    "id": "v07oj7dt38xU",
    "outputId": "cac87138-3bca-497b-8226-389e3fee7610"
   },
   "outputs": [
    {
     "name": "stdout",
     "output_type": "stream",
     "text": [
      "[[ 42  45  48]\n",
      " [150 162 174]\n",
      " [258 279 300]]\n"
     ]
    }
   ],
   "source": [
    "# 行列の積\n",
    "a=np.dot(array1, array2)\n",
    "print(a)"
   ]
  },
  {
   "cell_type": "code",
   "execution_count": 11,
   "metadata": {},
   "outputs": [
    {
     "name": "stdout",
     "output_type": "stream",
     "text": [
      "[[ 42  45  48]\n",
      " [150 162 174]\n",
      " [258 279 300]]\n"
     ]
    }
   ],
   "source": [
    "a=array1 @ array2\n",
    "print(a)"
   ]
  },
  {
   "cell_type": "code",
   "execution_count": 12,
   "metadata": {
    "colab": {
     "base_uri": "https://localhost:8080/"
    },
    "id": "M9IoW_te38xV",
    "outputId": "7832eff7-80ac-4f23-cc2a-98d6a70f86f8",
    "scrolled": true
   },
   "outputs": [
    {
     "name": "stdout",
     "output_type": "stream",
     "text": [
      "[[  0  10  22]\n",
      " [ 36  52  70]\n",
      " [ 90 112 136]]\n"
     ]
    }
   ],
   "source": [
    "# 要素どうしの積（＊記号では要素同士と積となるので注意が必要です．）\n",
    "a=array1 * array2\n",
    "print(a)"
   ]
  },
  {
   "cell_type": "markdown",
   "metadata": {
    "id": "eSw0SDDZ38xX"
   },
   "source": [
    "#### 要素が0や1の行列を作る\n",
    "\n",
    "データ分析では、要素が0や1の行列を作りたいことがあります。その場合、「`[0, 0, 0, 0, 0…]`」のようにひとつずつ要素を記述する（もしくは`for`文を使って繰り返し処理で作る）のは大変なので、専用の構文が用意されています。\n",
    "次のように「`np.zeros`」を指定すると、すべての要素が0の行列を作れます。同様に「`np.ones`」は、すべての要素が1の行列を作ります。`dtype`オプションでは、データの型を指定します。`int64`は64ビット整数、`float64`は64ビット浮動小数です。次のコードは、要素がすべて0（`int64`）の2行3列の行列、要素がすべて1（`float64`）の2行3列の行列を、それぞれ作成する例です。"
   ]
  },
  {
   "cell_type": "code",
   "execution_count": 14,
   "metadata": {
    "colab": {
     "base_uri": "https://localhost:8080/"
    },
    "id": "tOcYsYVv38xX",
    "outputId": "d0e683e5-a636-4815-a57b-d23cf0601328",
    "scrolled": true
   },
   "outputs": [
    {
     "name": "stdout",
     "output_type": "stream",
     "text": [
      "[[0 0 0]\n",
      " [0 0 0]]\n",
      "[[1. 1. 1.]\n",
      " [1. 1. 1.]]\n"
     ]
    }
   ],
   "source": [
    "import numpy as np\n",
    "print(np.zeros((2, 3), dtype = np.int64))\n",
    "print(np.ones((2, 3), dtype = np.float64))"
   ]
  },
  {
   "cell_type": "markdown",
   "metadata": {},
   "source": [
    "またリストへの乗算を行うことでも作成できます．"
   ]
  },
  {
   "cell_type": "code",
   "execution_count": 15,
   "metadata": {},
   "outputs": [
    {
     "name": "stdout",
     "output_type": "stream",
     "text": [
      "12\n",
      "[3, 3, 3, 3]\n"
     ]
    }
   ],
   "source": [
    "import numpy as np\n",
    "a=3*4\n",
    "print(a)\n",
    "b=[3]*4\n",
    "print(b)"
   ]
  },
  {
   "cell_type": "markdown",
   "metadata": {},
   "source": [
    "リストはnumpy配列（ndarray）に変換してから行列にすることもできます．（ndarrayでないとreshape関数がないためエラーとなる）（最初の例では変換していないためエラーとなりますが，後の例ではエラーとなりません．）"
   ]
  },
  {
   "cell_type": "code",
   "execution_count": 16,
   "metadata": {},
   "outputs": [
    {
     "ename": "AttributeError",
     "evalue": "'list' object has no attribute 'reshape'",
     "output_type": "error",
     "traceback": [
      "\u001b[0;31m---------------------------------------------------------------------------\u001b[0m",
      "\u001b[0;31mAttributeError\u001b[0m                            Traceback (most recent call last)",
      "Cell \u001b[0;32mIn[16], line 1\u001b[0m\n\u001b[0;32m----> 1\u001b[0m c\u001b[38;5;241m=\u001b[39m\u001b[43mb\u001b[49m\u001b[38;5;241;43m.\u001b[39;49m\u001b[43mreshape\u001b[49m(\u001b[38;5;241m2\u001b[39m,\u001b[38;5;241m2\u001b[39m)\n\u001b[1;32m      2\u001b[0m \u001b[38;5;28mprint\u001b[39m(c)\n",
      "\u001b[0;31mAttributeError\u001b[0m: 'list' object has no attribute 'reshape'"
     ]
    }
   ],
   "source": [
    "c=b.reshape(2,2)\n",
    "print(c)"
   ]
  },
  {
   "cell_type": "code",
   "execution_count": 17,
   "metadata": {},
   "outputs": [
    {
     "name": "stdout",
     "output_type": "stream",
     "text": [
      "[[3 3]\n",
      " [3 3]]\n"
     ]
    }
   ],
   "source": [
    "ndarray_b=np.array(b)\n",
    "c=ndarray_b.reshape(2,2)\n",
    "print(c)"
   ]
  },
  {
   "cell_type": "markdown",
   "metadata": {},
   "source": [
    "２つの行列を'＊'記号で乗算すると，要素同士の積となります．"
   ]
  },
  {
   "cell_type": "code",
   "execution_count": 18,
   "metadata": {},
   "outputs": [
    {
     "name": "stdout",
     "output_type": "stream",
     "text": [
      "[[9 9]\n",
      " [9 9]]\n"
     ]
    }
   ],
   "source": [
    "d=c*c\n",
    "print(d)"
   ]
  },
  {
   "cell_type": "markdown",
   "metadata": {},
   "source": [
    "掛ける数がすべて同じであれば，数値*行列でも同じことができます．"
   ]
  },
  {
   "cell_type": "code",
   "execution_count": 19,
   "metadata": {},
   "outputs": [
    {
     "name": "stdout",
     "output_type": "stream",
     "text": [
      "[[9 9]\n",
      " [9 9]]\n"
     ]
    }
   ],
   "source": [
    "d=3*c\n",
    "print(d)"
   ]
  },
  {
   "cell_type": "markdown",
   "metadata": {},
   "source": [
    "#### 練習問題\n",
    "要素がすべて1の5行5列の行列を作成し、その行列×行列をする計算をしてみましょう。"
   ]
  },
  {
   "cell_type": "code",
   "execution_count": 22,
   "metadata": {},
   "outputs": [
    {
     "name": "stdout",
     "output_type": "stream",
     "text": [
      "[[ 150  160  170  180  190]\n",
      " [ 400  435  470  505  540]\n",
      " [ 650  710  770  830  890]\n",
      " [ 900  985 1070 1155 1240]\n",
      " [1150 1260 1370 1480 1590]]\n"
     ]
    }
   ],
   "source": [
    "# 5行5列\n",
    "array1 = np.arange(25).reshape(5,5)\n",
    "array2 = np.arange(25).reshape(5,5)\n",
    "\n",
    "# 行列の積\n",
    "ans=np.dot(array1, array2)\n",
    "print(ans)"
   ]
  },
  {
   "cell_type": "markdown",
   "metadata": {},
   "source": [
    "#### 練習問題"
   ]
  },
  {
   "cell_type": "markdown",
   "metadata": {},
   "source": [
    "1～9の数値をもつ３×３行列Aと，11～19の数値を持つ３×３行列Bを作成し，AとBの積を２種類（行列積と要素ごとの積）を計算し表示するプログラムを作成せよ．"
   ]
  },
  {
   "cell_type": "code",
   "execution_count": 25,
   "metadata": {},
   "outputs": [
    {
     "name": "stdout",
     "output_type": "stream",
     "text": [
      "[[1 2 3]\n",
      " [4 5 6]\n",
      " [7 8 9]]\n",
      "[[11 12 13]\n",
      " [14 15 16]\n",
      " [17 18 19]]\n",
      "---------------------------------\n",
      "[[ 90  96 102]\n",
      " [216 231 246]\n",
      " [342 366 390]]\n",
      "[[ 11  24  39]\n",
      " [ 56  75  96]\n",
      " [119 144 171]]\n"
     ]
    }
   ],
   "source": [
    "arrayA = np.arange(1, 10).reshape(3, 3)\n",
    "arrayB = np.arange(11, 20).reshape(3, 3)\n",
    "\n",
    "# print matrixes\n",
    "print(arrayA)\n",
    "print(arrayB)\n",
    "\n",
    "print(\"---------------------------------\")\n",
    "\n",
    "# 行列の積\n",
    "ans = np.dot(arrayA, arrayB)\n",
    "print(ans)\n",
    "\n",
    "# 要素ごとの積\n",
    "ans = arrayA * arrayB\n",
    "print(ans)"
   ]
  },
  {
   "cell_type": "markdown",
   "metadata": {},
   "source": [
    "## 行列積と内積"
   ]
  },
  {
   "cell_type": "markdown",
   "metadata": {},
   "source": [
    "行列を１行ｍ列とｍ行１列で行列積を求めると，２つのベクトル（行列）の内積を計算したことになります．"
   ]
  },
  {
   "cell_type": "code",
   "execution_count": null,
   "metadata": {},
   "outputs": [],
   "source": [
    "import numpy as np\n",
    "m1=np.arange(0,2) #このではreshapeかけていないので１次元となる\n",
    "print('m1')\n",
    "print(m1)\n",
    "m2=np.arange(0,2).reshape(2,1)\n",
    "print('m2')\n",
    "print(m2)\n",
    "a=m1 @ m2\n",
    "print('m1 @ m2')\n",
    "print(a)\n",
    "b=int(a)\n",
    "print('int(a)')\n",
    "print(b)"
   ]
  },
  {
   "cell_type": "markdown",
   "metadata": {},
   "source": [
    "## 2つのベクトル（行列）の行列積による内積（※転置していないので注意）"
   ]
  },
  {
   "cell_type": "code",
   "execution_count": null,
   "metadata": {},
   "outputs": [],
   "source": [
    "import numpy as np\n",
    "m1=np.arange(1,4)\n",
    "print('m1')\n",
    "print(m1)\n",
    "m2=np.arange(2,5)\n",
    "print('m2')\n",
    "print(m2)\n",
    "a=m1 @ m2\n",
    "print('m1 @ m2')\n",
    "print(a)\n"
   ]
  },
  {
   "cell_type": "code",
   "execution_count": null,
   "metadata": {},
   "outputs": [],
   "source": [
    "import numpy as np\n",
    "m1=np.arange(1,21)\n",
    "print('m1')\n",
    "print(m1)\n",
    "m2=np.arange(1,21)\n",
    "print('m2')\n",
    "print(m2)\n",
    "a=m1 @ m2\n",
    "print('m1 @ m2')\n",
    "print(a)\n"
   ]
  },
  {
   "cell_type": "markdown",
   "metadata": {},
   "source": [
    "#### 練習問題"
   ]
  },
  {
   "cell_type": "markdown",
   "metadata": {},
   "source": [
    "１～１０までの数値の２乗の合計を計算して表示するプログラムを作成せよ．ただし，１から１０の値を持つリストを２つ作り，そのリスト内積から合計を求めて表示すること．"
   ]
  },
  {
   "cell_type": "code",
   "execution_count": null,
   "metadata": {},
   "outputs": [],
   "source": [
    "import numpy as np\n",
    "a = np.arange(1, 11)\n",
    "print(a)\n",
    "print(a @ a)"
   ]
  },
  {
   "cell_type": "markdown",
   "metadata": {},
   "source": [
    "## 逆行列"
   ]
  },
  {
   "cell_type": "markdown",
   "metadata": {},
   "source": [
    "行列は逆行列も計算できます。  "
   ]
  },
  {
   "cell_type": "code",
   "execution_count": null,
   "metadata": {},
   "outputs": [],
   "source": [
    "import numpy as np\n",
    "a1=np.arange(1,5).reshape(2,2)\n",
    "a2=np.linalg.inv(a1)\n",
    "print(a2)\n"
   ]
  },
  {
   "cell_type": "markdown",
   "metadata": {},
   "source": [
    "#### 練習問題\n",
    "次の行列の逆行列を求めましょう。"
   ]
  },
  {
   "cell_type": "markdown",
   "metadata": {},
   "source": [
    "[[2 3]  \n",
    " [4 5]]\n"
   ]
  },
  {
   "cell_type": "code",
   "execution_count": 26,
   "metadata": {},
   "outputs": [
    {
     "name": "stdout",
     "output_type": "stream",
     "text": [
      "[[2 3]\n",
      " [4 5]]\n",
      "[[-2.5  1.5]\n",
      " [ 2.  -1. ]]\n"
     ]
    }
   ],
   "source": [
    "arr = np.array([[2, 3], [4, 5]])\n",
    "print(arr)\n",
    "print(np.linalg.inv(arr))"
   ]
  },
  {
   "cell_type": "markdown",
   "metadata": {},
   "source": [
    "## 演習課題1\n",
    "２つのベクトル（1,2,3)と(4,5,6)の内積を計算する関数を作成せよ。関数には２つの引数があり、それぞれがベクトルを表す。\n",
    "戻り値は内積値（1つのスカラー値）であり、これを関数を呼び出したプログラムで（表示するのは関数の中ではない）表示する。"
   ]
  },
  {
   "cell_type": "code",
   "execution_count": 1,
   "metadata": {},
   "outputs": [
    {
     "name": "stdout",
     "output_type": "stream",
     "text": [
      "32\n"
     ]
    }
   ],
   "source": [
    "import numpy as np\n",
    "\n",
    "def dot_product(a,b):\n",
    "    return a @ b\n",
    "\n",
    "a = np.array([1, 2, 3])\n",
    "b = np.array([4, 5, 6])\n",
    "\n",
    "print(dot_product(a, b))\n"
   ]
  },
  {
   "cell_type": "markdown",
   "metadata": {},
   "source": [
    "## 演習課題２\n",
    "２つの行列を引数として与え（１つ目をm×n行列，２つ目をn×k行列とする），その行列積(m×k行列)を計算して表示するプログラムを作成せよ。  \n",
    "与える引数は１つ目を下記a，２つ目を下記bとする．  \n",
    "行列a  \n",
    "[[1 2 3]  \n",
    " [4 5 6]]  \n",
    "行列b  \n",
    "[[1 2]  \n",
    " [3 4]  \n",
    " [5 6]]  \n",
    " "
   ]
  },
  {
   "cell_type": "code",
   "execution_count": 3,
   "metadata": {},
   "outputs": [
    {
     "name": "stdout",
     "output_type": "stream",
     "text": [
      "[[22 28]\n",
      " [49 64]]\n"
     ]
    }
   ],
   "source": [
    "import numpy as np\n",
    "\n",
    "matrixA = np.arange(1,7).reshape(2,3)\n",
    "matrixB = np.arange(1,7).reshape(3,2)\n",
    "\n",
    "ans = np.dot(matrixA, matrixB)\n",
    "print(ans)\n"
   ]
  },
  {
   "cell_type": "markdown",
   "metadata": {},
   "source": [
    "## 演習課題３\n",
    "３つの行列の行列積（ｍ×ｎ，ｎ×o，o×ｐの積（左から掛ける）をｍ×ｐ行列とする）を求めて表示するプログラムを作成せよ．"
   ]
  },
  {
   "cell_type": "code",
   "execution_count": 6,
   "metadata": {},
   "outputs": [
    {
     "name": "stdout",
     "output_type": "stream",
     "text": [
      "[[ 5280  5690  6100  6510  6920  7330]\n",
      " [15360 16530 17700 18870 20040 21210]\n",
      " [25440 27370 29300 31230 33160 35090]]\n"
     ]
    }
   ],
   "source": [
    "import numpy as np\n",
    "\n",
    "matrix_elements = [3, 4, 5, 6]\n",
    "\n",
    "matrixs = [\n",
    "    np.arange(matrix_elements[i] * matrix_elements[i + 1]).reshape(\n",
    "        matrix_elements[i], matrix_elements[i + 1]\n",
    "    )\n",
    "    for i in range(len(matrix_elements) - 1)\n",
    "]\n",
    "\n",
    "ans = matrixs[0] @ matrixs[1] @ matrixs[2]\n",
    "\n",
    "print(ans)"
   ]
  }
 ],
 "metadata": {
  "anaconda-cloud": {},
  "celltoolbar": "Raw Cell Format",
  "colab": {
   "collapsed_sections": [
    "av5y-4T638wt",
    "rDNg8rXt38wy",
    "8cmF30ht38w8",
    "YpYxesl638w_",
    "pjGg5ehJ38xC",
    "wqCiNrY138xE",
    "xpBKcMbD38xG",
    "m1rA9YDN38xI",
    "x2fnVZ7M38xL",
    "M0ftbHU738xS",
    "eSw0SDDZ38xX",
    "8kV-RSrn38xZ",
    "VaXxYvZS38xZ",
    "HUwyaesj38xZ",
    "IMtCjpeI38xa",
    "KjB9ZA6o38xf",
    "ReAP7ATv38xh",
    "lgZLYpmF38xp",
    "dv47qcVt38xr",
    "_eC5Xf0038xt",
    "9LbztjCg38xu",
    "KJX-dW0n38xw",
    "ebQkCtQA38xw",
    "9kko1EHN38xy",
    "5AdiV6M138x2",
    "pcT5mo3H38x4",
    "2f9hRXLN38x8",
    "mAoomSK938x-",
    "9_smVR3f38yC",
    "QZEF8V8f38yC",
    "iSyPTqAe38yC",
    "ZYxD-HrX38yD",
    "h01uRqW_38yH",
    "PlJe21Oj38yO",
    "TGzxppsF38yb",
    "VHh-uAi738yc",
    "u1kllGAa38yf",
    "7V5J6ENK38yg",
    "aS7_5EHw38yg"
   ],
   "name": "numpy_exercise.ipynb のコピー",
   "provenance": []
  },
  "kernelspec": {
   "display_name": "Python 3 (ipykernel)",
   "language": "python",
   "name": "python3"
  },
  "language_info": {
   "codemirror_mode": {
    "name": "ipython",
    "version": 3
   },
   "file_extension": ".py",
   "mimetype": "text/x-python",
   "name": "python",
   "nbconvert_exporter": "python",
   "pygments_lexer": "ipython3",
   "version": "3.12.3"
  }
 },
 "nbformat": 4,
 "nbformat_minor": 1
}
